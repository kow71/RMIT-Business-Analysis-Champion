import pandas as pd
import numpy as np
import matplotlib.pyplot as plt
import seaborn as sns
!pip install gdown
import gdown

# Importing Demographic Data

demo_link = 'https://drive.google.com/file/d/1gsOTrMNuXkb87z7P_As8DF3IeVMvyRe3/view'

demo_path = 'https://drive.google.com/uc?export=download&id=' +demo_link.split("/")[-2]

df_demo = pd.read_csv(demo_path)

# Importing Loan Origin Data

loan_origin_link = 'https://drive.google.com/file/d/1bd45Xmbu2uXp9Q5kbYmpXnulOujtP79J/view'

loan_origin_path = 'https://drive.google.com/uc?export=download&id=' +loan_origin_link.split("/")[-2]

df_loan = pd.read_csv(loan_origin_path)

# Importing final Dataset
repay_link = 'https://drive.google.com/file/d/1dhyyDH9c8YNBeH0Q2q5ROZZUKgoDw0nF/view?usp=sharing'

file_id = repay_link.split("/")[-2]

!gdown "https://drive.google.com/uc?export=download&id={file_id}" -O final.csv

df_repayment = pd.read_csv("final.csv")


